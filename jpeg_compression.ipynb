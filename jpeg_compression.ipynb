{
 "cells": [
  {
   "cell_type": "code",
   "execution_count": 144,
   "metadata": {},
   "outputs": [],
   "source": [
    "import cv2\n",
    "import matplotlib.pyplot as plt\n",
    "import numpy as np\n",
    "img = cv2.imread(\"data/cv.bmp\")[:,:,::-1]\n",
    "w = img.shape[0]\n",
    "h = img.shape[1]"
   ]
  },
  {
   "cell_type": "code",
   "execution_count": 145,
   "metadata": {},
   "outputs": [],
   "source": [
    "def plot_side_by_side(img1, img2):\n",
    "    fig = plt.figure(figsize=(10, 7))\n",
    "    rows = 1\n",
    "    columns = 2\n",
    "\n",
    "    fig.add_subplot(rows, columns, 1)\n",
    "    plt.imshow(img1)\n",
    "    plt.axis('off')\n",
    "    plt.title(\"Image 1\")\n",
    "\n",
    "    fig.add_subplot(rows, columns, 2)\n",
    "    plt.imshow(img2)\n",
    "    plt.axis('off')\n",
    "    plt.title(\"Image 2\")"
   ]
  },
  {
   "cell_type": "markdown",
   "metadata": {},
   "source": [
    "## Original Image"
   ]
  },
  {
   "cell_type": "code",
   "execution_count": 146,
   "metadata": {},
   "outputs": [
    {
     "data": {
      "text/plain": [
       "<matplotlib.image.AxesImage at 0x1c312414100>"
      ]
     },
     "execution_count": 146,
     "metadata": {},
     "output_type": "execute_result"
    },
    {
     "data": {
      "image/png": "[encoded data removed]",
      "text/plain": [
       "<Figure size 432x288 with 1 Axes>"
      ]
     },
     "metadata": {
      "needs_background": "light"
     },
     "output_type": "display_data"
    }
   ],
   "source": [
    "plt.imshow(img)"
   ]
  },
  {
   "cell_type": "markdown",
   "metadata": {},
   "source": [
    "## RGB to YCbCr conversion"
   ]
  },
  {
   "cell_type": "code",
   "execution_count": 147,
   "metadata": {},
   "outputs": [
    {
     "data": {
      "image/png": "[encoded data removed]",
      "text/plain": [
       "<Figure size 720x504 with 2 Axes>"
      ]
     },
     "metadata": {
      "needs_background": "light"
     },
     "output_type": "display_data"
    }
   ],
   "source": [
    "def rgb2ycbcr(im):\n",
    "    xform = np.array([[.299, .587, .114], [-.1687, -.3313, .5], [.5, -.4187, -.0813]])\n",
    "    ycbcr = im.dot(xform.T)\n",
    "    ycbcr[:,:,[1,2]] += 128\n",
    "    return np.uint8(ycbcr)\n",
    "\n",
    "def ycbcr2rgb(im):\n",
    "    xform = np.array([[1, 0, 1.402], [1, -0.34414, -.71414], [1, 1.772, 0]])\n",
    "    rgb = im.astype(np.float32)\n",
    "    rgb[:,:,[1,2]] -= 128\n",
    "    rgb = rgb.dot(xform.T)\n",
    "    np.putmask(rgb, rgb > 255, 255)\n",
    "    np.putmask(rgb, rgb < 0, 0)\n",
    "    return np.uint8(rgb)\n",
    "\n",
    "ycbcr = rgb2ycbcr(img)\n",
    "plot_side_by_side(img, ycbcr)\n"
   ]
  },
  {
   "cell_type": "markdown",
   "metadata": {},
   "source": [
    "## Downsampling/Chroma subsampling (4:2:0)"
   ]
  },
  {
   "cell_type": "code",
   "execution_count": 152,
   "metadata": {},
   "outputs": [
    {
     "data": {
      "text/plain": [
       "Text(0.5, 1.0, 'Subsampled (4:2:0)\\nwith luma')"
      ]
     },
     "execution_count": 152,
     "metadata": {},
     "output_type": "execute_result"
    },
    {
     "data": {
      "image/png": "[encoded data removed]",
      "text/plain": [
       "<Figure size 720x504 with 3 Axes>"
      ]
     },
     "metadata": {
      "needs_background": "light"
     },
     "output_type": "display_data"
    }
   ],
   "source": [
    "block_size = 2\n",
    "def chroma_subsample(ycbcr):\n",
    "    a = np.array(ycbcr)\n",
    "    for y in range(0,h,block_size):\n",
    "        for x in range(0,w,block_size):\n",
    "            block = a[x:x+block_size,y:y+block_size,1:]\n",
    "            a[x:x+block_size,y:y+block_size,1:] = np.full((block_size,block_size,2), block[0,0])\n",
    "    return np.uint8(a)\n",
    "\n",
    "css = chroma_subsample(ycbcr)\n",
    "\n",
    "ycbcr_no_luma = np.copy(ycbcr)\n",
    "ycbcr_no_luma[:,:,0] = 0 # set luma channel to 0 for better visualization\n",
    "\n",
    "(x,y) = (0, 0)\n",
    "size = 20 \n",
    "\n",
    "fig = plt.figure(figsize=(10, 7))\n",
    "rows = 1\n",
    "columns = 3\n",
    "\n",
    "fig.add_subplot(rows, columns, 1)\n",
    "plt.imshow(ycbcr[x:x+size,y:y+size,:])\n",
    "plt.axis('off')\n",
    "plt.title(\"YCbCr\")\n",
    "\n",
    "fig.add_subplot(rows, columns, 2)\n",
    "plt.imshow(chroma_subsample(ycbcr_no_luma)[x:x+size,y:y+size,:])\n",
    "plt.axis('off')\n",
    "plt.title(\"Chroma subsampled (4:2:0)\\nwithout luma\")\n",
    "\n",
    "fig.add_subplot(rows, columns, 3)\n",
    "plt.imshow(chroma_subsample(ycbcr)[x:x+size,y:y+size,:])\n",
    "plt.axis('off')\n",
    "plt.title(\"Chroma subsampled (4:2:0)\\nwith luma\")"
   ]
  },
  {
   "cell_type": "code",
   "execution_count": null,
   "metadata": {},
   "outputs": [],
   "source": []
  }
 ],
 "metadata": {
  "kernelspec": {
   "display_name": "Python 3",
   "language": "python",
   "name": "python3"
  },
  "language_info": {
   "codemirror_mode": {
    "name": "ipython",
    "version": 3
   },
   "file_extension": ".py",
   "mimetype": "text/x-python",
   "name": "python",
   "nbconvert_exporter": "python",
   "pygments_lexer": "ipython3",
   "version": "3.9.6"
  }
 },
 "nbformat": 4,
 "nbformat_minor": 2
}
